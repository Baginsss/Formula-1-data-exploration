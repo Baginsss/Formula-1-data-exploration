{
 "cells": [
  {
   "cell_type": "code",
   "execution_count": 1,
   "id": "6f92a871",
   "metadata": {},
   "outputs": [],
   "source": [
    "#import bibliotek\n",
    "import pandas as pd\n",
    "import numpy as np\n",
    "\n",
    "import matplotlib.pyplot as plt\n",
    "import seaborn as sns\n",
    "%matplotlib inline"
   ]
  },
  {
   "cell_type": "code",
   "execution_count": 2,
   "id": "a2d43a49",
   "metadata": {},
   "outputs": [
    {
     "ename": "FileNotFoundError",
     "evalue": "[Errno 2] No such file or directory: 'C:\\\\Users\\\\977ma\\\\Desktop\\\\różne\\\\programowanie\\\\f1\\\\constructors.csv'",
     "output_type": "error",
     "traceback": [
      "\u001b[1;31m---------------------------------------------------------------------------\u001b[0m",
      "\u001b[1;31mFileNotFoundError\u001b[0m                         Traceback (most recent call last)",
      "\u001b[1;32m~\\AppData\\Local\\Temp\\ipykernel_15408\\834801675.py\u001b[0m in \u001b[0;36m<module>\u001b[1;34m\u001b[0m\n\u001b[0;32m      1\u001b[0m \u001b[1;31m#załadować dane\u001b[0m\u001b[1;33m\u001b[0m\u001b[1;33m\u001b[0m\u001b[0m\n\u001b[1;32m----> 2\u001b[1;33m \u001b[0mconstructors\u001b[0m \u001b[1;33m=\u001b[0m \u001b[0mpd\u001b[0m\u001b[1;33m.\u001b[0m\u001b[0mread_csv\u001b[0m\u001b[1;33m(\u001b[0m\u001b[1;34mr\"C:\\Users\\977ma\\Desktop\\różne\\programowanie\\f1\\constructors.csv\"\u001b[0m\u001b[1;33m)\u001b[0m\u001b[1;33m\u001b[0m\u001b[1;33m\u001b[0m\u001b[0m\n\u001b[0m\u001b[0;32m      3\u001b[0m \u001b[0mdrivers\u001b[0m \u001b[1;33m=\u001b[0m \u001b[0mpd\u001b[0m\u001b[1;33m.\u001b[0m\u001b[0mread_csv\u001b[0m\u001b[1;33m(\u001b[0m\u001b[1;34mr\"C:\\Users\\977ma\\Desktop\\różne\\programowanie\\f1\\drivers.csv\"\u001b[0m\u001b[1;33m)\u001b[0m\u001b[1;33m\u001b[0m\u001b[1;33m\u001b[0m\u001b[0m\n\u001b[0;32m      4\u001b[0m \u001b[0mraces\u001b[0m \u001b[1;33m=\u001b[0m \u001b[0mpd\u001b[0m\u001b[1;33m.\u001b[0m\u001b[0mread_csv\u001b[0m\u001b[1;33m(\u001b[0m\u001b[1;34mr\"C:\\Users\\977ma\\Desktop\\różne\\programowanie\\f1\\races.csv\"\u001b[0m\u001b[1;33m)\u001b[0m\u001b[1;33m\u001b[0m\u001b[1;33m\u001b[0m\u001b[0m\n\u001b[0;32m      5\u001b[0m \u001b[1;33m\u001b[0m\u001b[0m\n",
      "\u001b[1;32mC:\\ProgramData\\Anaconda3\\lib\\site-packages\\pandas\\util\\_decorators.py\u001b[0m in \u001b[0;36mwrapper\u001b[1;34m(*args, **kwargs)\u001b[0m\n\u001b[0;32m    309\u001b[0m                     \u001b[0mstacklevel\u001b[0m\u001b[1;33m=\u001b[0m\u001b[0mstacklevel\u001b[0m\u001b[1;33m,\u001b[0m\u001b[1;33m\u001b[0m\u001b[1;33m\u001b[0m\u001b[0m\n\u001b[0;32m    310\u001b[0m                 )\n\u001b[1;32m--> 311\u001b[1;33m             \u001b[1;32mreturn\u001b[0m \u001b[0mfunc\u001b[0m\u001b[1;33m(\u001b[0m\u001b[1;33m*\u001b[0m\u001b[0margs\u001b[0m\u001b[1;33m,\u001b[0m \u001b[1;33m**\u001b[0m\u001b[0mkwargs\u001b[0m\u001b[1;33m)\u001b[0m\u001b[1;33m\u001b[0m\u001b[1;33m\u001b[0m\u001b[0m\n\u001b[0m\u001b[0;32m    312\u001b[0m \u001b[1;33m\u001b[0m\u001b[0m\n\u001b[0;32m    313\u001b[0m         \u001b[1;32mreturn\u001b[0m \u001b[0mwrapper\u001b[0m\u001b[1;33m\u001b[0m\u001b[1;33m\u001b[0m\u001b[0m\n",
      "\u001b[1;32mC:\\ProgramData\\Anaconda3\\lib\\site-packages\\pandas\\io\\parsers\\readers.py\u001b[0m in \u001b[0;36mread_csv\u001b[1;34m(filepath_or_buffer, sep, delimiter, header, names, index_col, usecols, squeeze, prefix, mangle_dupe_cols, dtype, engine, converters, true_values, false_values, skipinitialspace, skiprows, skipfooter, nrows, na_values, keep_default_na, na_filter, verbose, skip_blank_lines, parse_dates, infer_datetime_format, keep_date_col, date_parser, dayfirst, cache_dates, iterator, chunksize, compression, thousands, decimal, lineterminator, quotechar, quoting, doublequote, escapechar, comment, encoding, encoding_errors, dialect, error_bad_lines, warn_bad_lines, on_bad_lines, delim_whitespace, low_memory, memory_map, float_precision, storage_options)\u001b[0m\n\u001b[0;32m    676\u001b[0m     \u001b[0mkwds\u001b[0m\u001b[1;33m.\u001b[0m\u001b[0mupdate\u001b[0m\u001b[1;33m(\u001b[0m\u001b[0mkwds_defaults\u001b[0m\u001b[1;33m)\u001b[0m\u001b[1;33m\u001b[0m\u001b[1;33m\u001b[0m\u001b[0m\n\u001b[0;32m    677\u001b[0m \u001b[1;33m\u001b[0m\u001b[0m\n\u001b[1;32m--> 678\u001b[1;33m     \u001b[1;32mreturn\u001b[0m \u001b[0m_read\u001b[0m\u001b[1;33m(\u001b[0m\u001b[0mfilepath_or_buffer\u001b[0m\u001b[1;33m,\u001b[0m \u001b[0mkwds\u001b[0m\u001b[1;33m)\u001b[0m\u001b[1;33m\u001b[0m\u001b[1;33m\u001b[0m\u001b[0m\n\u001b[0m\u001b[0;32m    679\u001b[0m \u001b[1;33m\u001b[0m\u001b[0m\n\u001b[0;32m    680\u001b[0m \u001b[1;33m\u001b[0m\u001b[0m\n",
      "\u001b[1;32mC:\\ProgramData\\Anaconda3\\lib\\site-packages\\pandas\\io\\parsers\\readers.py\u001b[0m in \u001b[0;36m_read\u001b[1;34m(filepath_or_buffer, kwds)\u001b[0m\n\u001b[0;32m    573\u001b[0m \u001b[1;33m\u001b[0m\u001b[0m\n\u001b[0;32m    574\u001b[0m     \u001b[1;31m# Create the parser.\u001b[0m\u001b[1;33m\u001b[0m\u001b[1;33m\u001b[0m\u001b[0m\n\u001b[1;32m--> 575\u001b[1;33m     \u001b[0mparser\u001b[0m \u001b[1;33m=\u001b[0m \u001b[0mTextFileReader\u001b[0m\u001b[1;33m(\u001b[0m\u001b[0mfilepath_or_buffer\u001b[0m\u001b[1;33m,\u001b[0m \u001b[1;33m**\u001b[0m\u001b[0mkwds\u001b[0m\u001b[1;33m)\u001b[0m\u001b[1;33m\u001b[0m\u001b[1;33m\u001b[0m\u001b[0m\n\u001b[0m\u001b[0;32m    576\u001b[0m \u001b[1;33m\u001b[0m\u001b[0m\n\u001b[0;32m    577\u001b[0m     \u001b[1;32mif\u001b[0m \u001b[0mchunksize\u001b[0m \u001b[1;32mor\u001b[0m \u001b[0miterator\u001b[0m\u001b[1;33m:\u001b[0m\u001b[1;33m\u001b[0m\u001b[1;33m\u001b[0m\u001b[0m\n",
      "\u001b[1;32mC:\\ProgramData\\Anaconda3\\lib\\site-packages\\pandas\\io\\parsers\\readers.py\u001b[0m in \u001b[0;36m__init__\u001b[1;34m(self, f, engine, **kwds)\u001b[0m\n\u001b[0;32m    930\u001b[0m \u001b[1;33m\u001b[0m\u001b[0m\n\u001b[0;32m    931\u001b[0m         \u001b[0mself\u001b[0m\u001b[1;33m.\u001b[0m\u001b[0mhandles\u001b[0m\u001b[1;33m:\u001b[0m \u001b[0mIOHandles\u001b[0m \u001b[1;33m|\u001b[0m \u001b[1;32mNone\u001b[0m \u001b[1;33m=\u001b[0m \u001b[1;32mNone\u001b[0m\u001b[1;33m\u001b[0m\u001b[1;33m\u001b[0m\u001b[0m\n\u001b[1;32m--> 932\u001b[1;33m         \u001b[0mself\u001b[0m\u001b[1;33m.\u001b[0m\u001b[0m_engine\u001b[0m \u001b[1;33m=\u001b[0m \u001b[0mself\u001b[0m\u001b[1;33m.\u001b[0m\u001b[0m_make_engine\u001b[0m\u001b[1;33m(\u001b[0m\u001b[0mf\u001b[0m\u001b[1;33m,\u001b[0m \u001b[0mself\u001b[0m\u001b[1;33m.\u001b[0m\u001b[0mengine\u001b[0m\u001b[1;33m)\u001b[0m\u001b[1;33m\u001b[0m\u001b[1;33m\u001b[0m\u001b[0m\n\u001b[0m\u001b[0;32m    933\u001b[0m \u001b[1;33m\u001b[0m\u001b[0m\n\u001b[0;32m    934\u001b[0m     \u001b[1;32mdef\u001b[0m \u001b[0mclose\u001b[0m\u001b[1;33m(\u001b[0m\u001b[0mself\u001b[0m\u001b[1;33m)\u001b[0m\u001b[1;33m:\u001b[0m\u001b[1;33m\u001b[0m\u001b[1;33m\u001b[0m\u001b[0m\n",
      "\u001b[1;32mC:\\ProgramData\\Anaconda3\\lib\\site-packages\\pandas\\io\\parsers\\readers.py\u001b[0m in \u001b[0;36m_make_engine\u001b[1;34m(self, f, engine)\u001b[0m\n\u001b[0;32m   1214\u001b[0m             \u001b[1;31m# \"Union[str, PathLike[str], ReadCsvBuffer[bytes], ReadCsvBuffer[str]]\"\u001b[0m\u001b[1;33m\u001b[0m\u001b[1;33m\u001b[0m\u001b[0m\n\u001b[0;32m   1215\u001b[0m             \u001b[1;31m# , \"str\", \"bool\", \"Any\", \"Any\", \"Any\", \"Any\", \"Any\"\u001b[0m\u001b[1;33m\u001b[0m\u001b[1;33m\u001b[0m\u001b[0m\n\u001b[1;32m-> 1216\u001b[1;33m             self.handles = get_handle(  # type: ignore[call-overload]\n\u001b[0m\u001b[0;32m   1217\u001b[0m                 \u001b[0mf\u001b[0m\u001b[1;33m,\u001b[0m\u001b[1;33m\u001b[0m\u001b[1;33m\u001b[0m\u001b[0m\n\u001b[0;32m   1218\u001b[0m                 \u001b[0mmode\u001b[0m\u001b[1;33m,\u001b[0m\u001b[1;33m\u001b[0m\u001b[1;33m\u001b[0m\u001b[0m\n",
      "\u001b[1;32mC:\\ProgramData\\Anaconda3\\lib\\site-packages\\pandas\\io\\common.py\u001b[0m in \u001b[0;36mget_handle\u001b[1;34m(path_or_buf, mode, encoding, compression, memory_map, is_text, errors, storage_options)\u001b[0m\n\u001b[0;32m    784\u001b[0m         \u001b[1;32mif\u001b[0m \u001b[0mioargs\u001b[0m\u001b[1;33m.\u001b[0m\u001b[0mencoding\u001b[0m \u001b[1;32mand\u001b[0m \u001b[1;34m\"b\"\u001b[0m \u001b[1;32mnot\u001b[0m \u001b[1;32min\u001b[0m \u001b[0mioargs\u001b[0m\u001b[1;33m.\u001b[0m\u001b[0mmode\u001b[0m\u001b[1;33m:\u001b[0m\u001b[1;33m\u001b[0m\u001b[1;33m\u001b[0m\u001b[0m\n\u001b[0;32m    785\u001b[0m             \u001b[1;31m# Encoding\u001b[0m\u001b[1;33m\u001b[0m\u001b[1;33m\u001b[0m\u001b[0m\n\u001b[1;32m--> 786\u001b[1;33m             handle = open(\n\u001b[0m\u001b[0;32m    787\u001b[0m                 \u001b[0mhandle\u001b[0m\u001b[1;33m,\u001b[0m\u001b[1;33m\u001b[0m\u001b[1;33m\u001b[0m\u001b[0m\n\u001b[0;32m    788\u001b[0m                 \u001b[0mioargs\u001b[0m\u001b[1;33m.\u001b[0m\u001b[0mmode\u001b[0m\u001b[1;33m,\u001b[0m\u001b[1;33m\u001b[0m\u001b[1;33m\u001b[0m\u001b[0m\n",
      "\u001b[1;31mFileNotFoundError\u001b[0m: [Errno 2] No such file or directory: 'C:\\\\Users\\\\977ma\\\\Desktop\\\\różne\\\\programowanie\\\\f1\\\\constructors.csv'"
     ]
    }
   ],
   "source": [
    "#załadować dane\n",
    "constructors = pd.read_csv(r\"C:\\Users\\977ma\\Desktop\\różne\\programowanie\\f1\\constructors.csv\")\n",
    "drivers = pd.read_csv(r\"C:\\Users\\977ma\\Desktop\\różne\\programowanie\\f1\\drivers.csv\")\n",
    "races = pd.read_csv(r\"C:\\Users\\977ma\\Desktop\\różne\\programowanie\\f1\\races.csv\")\n",
    "\n",
    "circuits = pd.read_csv(r\"C:\\Users\\977ma\\Desktop\\różne\\programowanie\\f1\\circuits.csv\")\n",
    "constructor_results = pd.read_csv(r\"C:\\Users\\977ma\\Desktop\\różne\\programowanie\\f1\\constructor_results.csv\")\n",
    "constructor_standings = pd.read_csv(r\"C:\\Users\\977ma\\Desktop\\różne\\programowanie\\f1\\constructor_standings.csv\")\n",
    "driver_standings = pd.read_csv(r\"C:\\Users\\977ma\\Desktop\\różne\\programowanie\\f1\\driver_standings.csv\")\n",
    "lap_times = pd.read_csv(r\"C:\\Users\\977ma\\Desktop\\różne\\programowanie\\f1\\lap_times.csv\")\n",
    "pit_stops = pd.read_csv(r\"C:\\Users\\977ma\\Desktop\\różne\\programowanie\\f1\\pit_stops.csv\")\n",
    "qualifying = pd.read_csv(r\"C:\\Users\\977ma\\Desktop\\ogramowanie\\f1\\qualifying.csv\")\n",
    "results = pd.read_csv(r\"C:\\Users\\977ma\\Desktop\\różne\\programowanie\\f1\\results.csv\")\n",
    "seasons = pd.read_csv(r\"C:\\Users\\977ma\\Desktop\\programowanie\\f1\\seasons.csv\")\n",
    "sprint_results = pd.read_csv(r\"C:\\Users\\977ma\\Desktop\\programowanie\\f1\\sprint_results.csv\")\n",
    "status = pd.read_csv(r\"C:\\Users\\977ma\\Desktop\\programowanie\\f1\\status.csv\")"
   ]
  },
  {
   "cell_type": "code",
   "execution_count": null,
   "id": "1d84c004",
   "metadata": {},
   "outputs": [],
   "source": [
    "df_list = [constructors, drivers, races, circuits, constructor_results, \n",
    "           constructor_standings, driver_standings, lap_times,\n",
    "          pit_stops, qualifying, results, seasons, sprint_results, status]"
   ]
  },
  {
   "cell_type": "code",
   "execution_count": null,
   "id": "afa871dc",
   "metadata": {},
   "outputs": [],
   "source": [
    "for df in df_list:\n",
    "    display(df.head(5))"
   ]
  },
  {
   "cell_type": "code",
   "execution_count": null,
   "id": "7e28d0c8",
   "metadata": {},
   "outputs": [],
   "source": [
    "for df in df_list:\n",
    "    display(df.describe().T)"
   ]
  },
  {
   "cell_type": "code",
   "execution_count": null,
   "id": "c61afa82",
   "metadata": {},
   "outputs": [],
   "source": [
    "num = 1\n",
    "for df in df_list:\n",
    "    display(num)\n",
    "    if df.isnull().values.any() == True:\n",
    "        display(df.info())\n",
    "    else:\n",
    "        display(\"clear\")\n",
    "    num = num + 1"
   ]
  },
  {
   "cell_type": "code",
   "execution_count": null,
   "id": "d2fe7b3a",
   "metadata": {},
   "outputs": [],
   "source": [
    "df_list[9].head()"
   ]
  },
  {
   "cell_type": "code",
   "execution_count": null,
   "id": "244836d9",
   "metadata": {},
   "outputs": [],
   "source": [
    "df_list[9][df_list[9].isnull().any(axis=1)]"
   ]
  },
  {
   "cell_type": "code",
   "execution_count": null,
   "id": "8447196c",
   "metadata": {},
   "outputs": [],
   "source": [
    "check = results[results['raceId'] == 1076]\n",
    "display(check[check['driverId'] == 849])\n",
    "display(status[status['statusId'] == 11])\n",
    "display(drivers[drivers['driverId'] == 849])"
   ]
  },
  {
   "cell_type": "code",
   "execution_count": null,
   "id": "57b02204",
   "metadata": {},
   "outputs": [],
   "source": [
    "\"\"\" napisać funkcję, która mi sprawdzi datasety, typu lista z df'ami, \n",
    "potem loop for, if coś tam null, jak null to który dataset\n",
    "To samo z displayem\n",
    "\n",
    "Jest tam wyżej, wrzucić opis, że sprawdzam i udowadniam dlaczego mogą być null czy missing\n",
    "\"\"\""
   ]
  },
  {
   "cell_type": "code",
   "execution_count": null,
   "id": "e734bd9c",
   "metadata": {},
   "outputs": [],
   "source": [
    "\"\"\"Rozdział o narodowościach, sprawdzić teamy, sprawdzić tory w jakim kraju najczęściej, może mieście; \n",
    "narodowości kierowców (może z jakiego kontynentu najwięcej), finów per capita xd, najmłodszy kierowca, \n",
    "najstarszy kierowca, najmłodszy zwycięzca gp(najstarszy), zdobywca pp, mistrz świata\n",
    "\"\"\""
   ]
  },
  {
   "cell_type": "markdown",
   "id": "d0b81b1f",
   "metadata": {},
   "source": [
    "# Teams"
   ]
  },
  {
   "cell_type": "code",
   "execution_count": null,
   "id": "0e5acf0b",
   "metadata": {},
   "outputs": [],
   "source": [
    "# Display the number of (possibly shared) Formula 1 teams\n",
    "display(len(constructors[\"constructorId\"]))\n",
    "\n",
    "# Display the number of teams by the top 10 nationalities.\n",
    "constructors['nationality'].value_counts().head(10)\n",
    "\n",
    "#jakiś ładny graf, typu może histogram?"
   ]
  },
  {
   "cell_type": "code",
   "execution_count": null,
   "id": "56c7284f",
   "metadata": {},
   "outputs": [],
   "source": [
    "#avg lata funkcjonowania (najstarzy team, najmłodszy), ilość tytułów"
   ]
  },
  {
   "cell_type": "markdown",
   "id": "3c64764c",
   "metadata": {},
   "source": [
    "# Drivers"
   ]
  },
  {
   "cell_type": "code",
   "execution_count": null,
   "id": "fd08cb5f",
   "metadata": {},
   "outputs": [],
   "source": [
    "# Display the number of (possibly shared) Formula 1 teams\n",
    "display(len(drivers[\"driverId\"]))\n",
    "\n",
    "# Display the number of teams by the top 10 nationalities.\n",
    "drivers['nationality'].value_counts().head(10)\n",
    "\n",
    "#jakiś ładny graf, typu może histogram?"
   ]
  },
  {
   "cell_type": "code",
   "execution_count": null,
   "id": "04b35065",
   "metadata": {},
   "outputs": [],
   "source": [
    "len(drivers[drivers['nationality'] == 'Finnish'])"
   ]
  },
  {
   "cell_type": "code",
   "execution_count": null,
   "id": "a5c14b25",
   "metadata": {},
   "outputs": [],
   "source": [
    "#narodowości kierowców (może z jakiego kontynentu najwięcej), finów per capita xd, najmłodszy kierowca, \n",
    "#najstarszy kierowca, najmłodszy zwycięzca gp(najstarszy), zdobywca pp, mistrz świata"
   ]
  },
  {
   "cell_type": "markdown",
   "id": "12447521",
   "metadata": {},
   "source": [
    "# Circuits"
   ]
  },
  {
   "cell_type": "code",
   "execution_count": null,
   "id": "81b4ca4e",
   "metadata": {},
   "outputs": [],
   "source": [
    "#kraje, czy się powtarza lokacja, ale jest inny tor, dwa: najdłuższy tor, najniższy, najwyższy\n",
    "display(len(circuits[\"circuitId\"]))"
   ]
  },
  {
   "cell_type": "code",
   "execution_count": null,
   "id": "dbf69d30",
   "metadata": {},
   "outputs": [],
   "source": [
    "circuits['country']"
   ]
  },
  {
   "cell_type": "code",
   "execution_count": null,
   "id": "b5e178e6",
   "metadata": {},
   "outputs": [],
   "source": [
    "circuits['country'].value_counts().head(10)"
   ]
  },
  {
   "cell_type": "code",
   "execution_count": null,
   "id": "47c49db0",
   "metadata": {},
   "outputs": [],
   "source": [
    "circuits['location'].value_counts().head(10)"
   ]
  },
  {
   "cell_type": "code",
   "execution_count": null,
   "id": "827581c6",
   "metadata": {},
   "outputs": [],
   "source": [
    "display(circuits[circuits['location'] == \"Barcelona\"])\n",
    "display(circuits[circuits['location'] == \"California\"])\n",
    "display(circuits[circuits['location'] == \"Spielberg\"])"
   ]
  },
  {
   "cell_type": "code",
   "execution_count": null,
   "id": "e5cddbff",
   "metadata": {},
   "outputs": [],
   "source": [
    "#podrozdział utrata ameryki? ostatni kierowcy ze stanów kiedy jeżdzili, ostatnie gp etc.(histogram)"
   ]
  },
  {
   "cell_type": "markdown",
   "id": "53e1f14a",
   "metadata": {},
   "source": [
    "# Pit-stops"
   ]
  },
  {
   "cell_type": "code",
   "execution_count": null,
   "id": "fd1c468f",
   "metadata": {},
   "outputs": [],
   "source": [
    "#Najdłuższy i najkrótszy pitstop\n",
    "display(pit_stops.loc[pit_stops[\"milliseconds\"].idxmax()])\n",
    "display(pit_stops.loc[pit_stops[\"milliseconds\"].idxmin()])\n",
    "#napisać, że łącznie z przejazdem przez pitstop"
   ]
  },
  {
   "cell_type": "code",
   "execution_count": null,
   "id": "92b9d546",
   "metadata": {},
   "outputs": [],
   "source": [
    "#pogrupować je na przykład na 100 wyścigów, albo 50 po mediane z każdego wyścigu (nie średnią, bo jest wrażliwa na outlire)\n",
    "sns.lineplot(x = 'raceId', y = 'milliseconds', data = pit_stops)\n",
    "plt.show()"
   ]
  },
  {
   "cell_type": "code",
   "execution_count": null,
   "id": "85e44fbf",
   "metadata": {},
   "outputs": [],
   "source": [
    "n = pit_stops.groupby(['raceId'])['milliseconds'].median()"
   ]
  },
  {
   "cell_type": "code",
   "execution_count": null,
   "id": "eeab3bac",
   "metadata": {},
   "outputs": [],
   "source": [
    "sns.lineplot(x = 'raceId', y = n, data = n)\n",
    "plt.show()"
   ]
  },
  {
   "cell_type": "code",
   "execution_count": null,
   "id": "8e3bb0b1",
   "metadata": {},
   "outputs": [],
   "source": [
    "pit_stops['15'] = (np.floor(pit_stops['raceId'] / 15) * 15).astype(int)\n",
    "meannn = pit_stops.groupby('15', as_index=False)['milliseconds'].median()\n",
    "print(meannn)"
   ]
  },
  {
   "cell_type": "code",
   "execution_count": null,
   "id": "e54120bf",
   "metadata": {},
   "outputs": [],
   "source": [
    "sns.lineplot(x = '15', y = \"milliseconds\", data = meannn)\n",
    "plt.show()"
   ]
  },
  {
   "cell_type": "code",
   "execution_count": null,
   "id": "2935ed65",
   "metadata": {},
   "outputs": [],
   "source": [
    "pit_stops.head(5)"
   ]
  },
  {
   "cell_type": "code",
   "execution_count": null,
   "id": "9d48f2da",
   "metadata": {},
   "outputs": [],
   "source": [
    "races[races['raceId'] == 841]"
   ]
  },
  {
   "cell_type": "code",
   "execution_count": null,
   "id": "4a0a42dc",
   "metadata": {},
   "outputs": [],
   "source": [
    "pit_stops.loc[pit_stops['raceId'].idxmax()]"
   ]
  },
  {
   "cell_type": "code",
   "execution_count": null,
   "id": "554b0165",
   "metadata": {},
   "outputs": [],
   "source": [
    "races[races['raceId'] == 1076]"
   ]
  },
  {
   "cell_type": "code",
   "execution_count": null,
   "id": "abdd650e",
   "metadata": {},
   "outputs": [],
   "source": [
    "#0. dać w tytuł że pitstopy z 2011 - 2021\n",
    "#1.najdłuższy czas i najkrótszy wyjaśnić, że to chodzi z przejazdami\n",
    "#2. przełożyć te max id i min na górę\n",
    "#3. zrobić merge z sezonami i pogrupować danę na rok\n",
    "#4. wykresy\n",
    "#5. zaznaczyć na wykresach zmiany techniczne o pitstopach i zmiany zasad co do ich wykonywania"
   ]
  }
 ],
 "metadata": {
  "kernelspec": {
   "display_name": "Python 3 (ipykernel)",
   "language": "python",
   "name": "python3"
  },
  "language_info": {
   "codemirror_mode": {
    "name": "ipython",
    "version": 3
   },
   "file_extension": ".py",
   "mimetype": "text/x-python",
   "name": "python",
   "nbconvert_exporter": "python",
   "pygments_lexer": "ipython3",
   "version": "3.9.13"
  }
 },
 "nbformat": 4,
 "nbformat_minor": 5
}
