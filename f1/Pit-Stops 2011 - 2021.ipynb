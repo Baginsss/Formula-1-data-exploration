{
 "cells": [
  {
   "cell_type": "markdown",
   "id": "2fc48df2",
   "metadata": {},
   "source": [
    "# Pit Stops (2011 - 2021)"
   ]
  },
  {
   "cell_type": "code",
   "execution_count": 2,
   "id": "0e2df5f8",
   "metadata": {},
   "outputs": [],
   "source": [
    "#0. Import bibliotek\n",
    "#1. import danych (dodawać te co są potrzebne)\n",
    "#2. najdłuższy czas i najkrótszy wyjaśnić, że to chodzi z przejazdami\n",
    "#3. przełożyć te max id i min na górę\n",
    "#4. zrobić merge z sezonami i pogrupować danę na rok\n",
    "#5. wykresy\n",
    "#6. zaznaczyć na wykresach zmiany techniczne o pitstopach i zmiany zasad co do ich wykonywania\n",
    "\n",
    "\n",
    "#1. Wykresy mediany i średniej\n",
    "#2. posprawdzać dlaczego z roku na rok były zmiany w czasach (zasady)\n",
    "#3. pozaznaczać na osi\n",
    "#4. Pogrupować team'ami\n",
    "#5. jaki zespół był najlepszy, ułożyć w tabeli w kolejności\n",
    "#6. Sprawdzić dyskryminację między kierowcami i w jakich zespołach dochodziło\n",
    "\n",
    "#czy jest dyskryminacja z kierowcami i pitstopami?"
   ]
  },
  {
   "cell_type": "code",
   "execution_count": 3,
   "id": "be9036f3",
   "metadata": {},
   "outputs": [],
   "source": [
    "#import bibliotek\n",
    "import pandas as pd\n",
    "import numpy as np\n",
    "\n",
    "import matplotlib.pyplot as plt\n",
    "import seaborn as sns\n",
    "%matplotlib inline"
   ]
  },
  {
   "cell_type": "code",
   "execution_count": 4,
   "id": "a81c15ef",
   "metadata": {},
   "outputs": [],
   "source": [
    "pit_stops = pd.read_csv(r\"C:\\Users\\977ma\\Desktop\\różne\\programowanie\\f1\\pit_stops.csv\")\n",
    "races = pd.read_csv(r\"C:\\Users\\977ma\\Desktop\\różne\\programowanie\\f1\\races.csv\")"
   ]
  },
  {
   "cell_type": "code",
   "execution_count": 5,
   "id": "117754f5",
   "metadata": {},
   "outputs": [],
   "source": [
    "pit_stops = pit_stops.rename(columns={'time':'pitTime'})\n",
    "pit_stops['seconds'] = pit_stops['milliseconds'].apply(lambda x: x/1000)\n",
    "races.set_index('raceId',inplace=True)"
   ]
  },
  {
   "cell_type": "code",
   "execution_count": 6,
   "id": "e538cc12",
   "metadata": {},
   "outputs": [
    {
     "data": {
      "text/html": [
       "<div>\n",
       "<style scoped>\n",
       "    .dataframe tbody tr th:only-of-type {\n",
       "        vertical-align: middle;\n",
       "    }\n",
       "\n",
       "    .dataframe tbody tr th {\n",
       "        vertical-align: top;\n",
       "    }\n",
       "\n",
       "    .dataframe thead th {\n",
       "        text-align: right;\n",
       "    }\n",
       "</style>\n",
       "<table border=\"1\" class=\"dataframe\">\n",
       "  <thead>\n",
       "    <tr style=\"text-align: right;\">\n",
       "      <th></th>\n",
       "      <th>raceId</th>\n",
       "      <th>driverId</th>\n",
       "      <th>stop</th>\n",
       "      <th>lap</th>\n",
       "      <th>pitTime</th>\n",
       "      <th>duration</th>\n",
       "      <th>milliseconds</th>\n",
       "      <th>seconds</th>\n",
       "    </tr>\n",
       "  </thead>\n",
       "  <tbody>\n",
       "    <tr>\n",
       "      <th>0</th>\n",
       "      <td>841</td>\n",
       "      <td>153</td>\n",
       "      <td>1</td>\n",
       "      <td>1</td>\n",
       "      <td>17:05:23</td>\n",
       "      <td>26.898</td>\n",
       "      <td>26898</td>\n",
       "      <td>26.898</td>\n",
       "    </tr>\n",
       "    <tr>\n",
       "      <th>1</th>\n",
       "      <td>841</td>\n",
       "      <td>30</td>\n",
       "      <td>1</td>\n",
       "      <td>1</td>\n",
       "      <td>17:05:52</td>\n",
       "      <td>25.021</td>\n",
       "      <td>25021</td>\n",
       "      <td>25.021</td>\n",
       "    </tr>\n",
       "    <tr>\n",
       "      <th>2</th>\n",
       "      <td>841</td>\n",
       "      <td>17</td>\n",
       "      <td>1</td>\n",
       "      <td>11</td>\n",
       "      <td>17:20:48</td>\n",
       "      <td>23.426</td>\n",
       "      <td>23426</td>\n",
       "      <td>23.426</td>\n",
       "    </tr>\n",
       "    <tr>\n",
       "      <th>3</th>\n",
       "      <td>841</td>\n",
       "      <td>4</td>\n",
       "      <td>1</td>\n",
       "      <td>12</td>\n",
       "      <td>17:22:34</td>\n",
       "      <td>23.251</td>\n",
       "      <td>23251</td>\n",
       "      <td>23.251</td>\n",
       "    </tr>\n",
       "    <tr>\n",
       "      <th>4</th>\n",
       "      <td>841</td>\n",
       "      <td>13</td>\n",
       "      <td>1</td>\n",
       "      <td>13</td>\n",
       "      <td>17:24:10</td>\n",
       "      <td>23.842</td>\n",
       "      <td>23842</td>\n",
       "      <td>23.842</td>\n",
       "    </tr>\n",
       "  </tbody>\n",
       "</table>\n",
       "</div>"
      ],
      "text/plain": [
       "   raceId  driverId  stop  lap   pitTime duration  milliseconds  seconds\n",
       "0     841       153     1    1  17:05:23   26.898         26898   26.898\n",
       "1     841        30     1    1  17:05:52   25.021         25021   25.021\n",
       "2     841        17     1   11  17:20:48   23.426         23426   23.426\n",
       "3     841         4     1   12  17:22:34   23.251         23251   23.251\n",
       "4     841        13     1   13  17:24:10   23.842         23842   23.842"
      ]
     },
     "execution_count": 6,
     "metadata": {},
     "output_type": "execute_result"
    }
   ],
   "source": [
    "pit_stops.head()"
   ]
  },
  {
   "cell_type": "code",
   "execution_count": 7,
   "id": "f2e726d7",
   "metadata": {},
   "outputs": [
    {
     "data": {
      "text/html": [
       "<div>\n",
       "<style scoped>\n",
       "    .dataframe tbody tr th:only-of-type {\n",
       "        vertical-align: middle;\n",
       "    }\n",
       "\n",
       "    .dataframe tbody tr th {\n",
       "        vertical-align: top;\n",
       "    }\n",
       "\n",
       "    .dataframe thead th {\n",
       "        text-align: right;\n",
       "    }\n",
       "</style>\n",
       "<table border=\"1\" class=\"dataframe\">\n",
       "  <thead>\n",
       "    <tr style=\"text-align: right;\">\n",
       "      <th></th>\n",
       "      <th>count</th>\n",
       "      <th>mean</th>\n",
       "      <th>std</th>\n",
       "      <th>min</th>\n",
       "      <th>25%</th>\n",
       "      <th>50%</th>\n",
       "      <th>75%</th>\n",
       "      <th>max</th>\n",
       "    </tr>\n",
       "  </thead>\n",
       "  <tbody>\n",
       "    <tr>\n",
       "      <th>raceId</th>\n",
       "      <td>8928.0</td>\n",
       "      <td>945.816084</td>\n",
       "      <td>70.202171</td>\n",
       "      <td>841.000</td>\n",
       "      <td>882.000</td>\n",
       "      <td>943.000</td>\n",
       "      <td>1006.00000</td>\n",
       "      <td>1076.000</td>\n",
       "    </tr>\n",
       "    <tr>\n",
       "      <th>driverId</th>\n",
       "      <td>8928.0</td>\n",
       "      <td>496.363463</td>\n",
       "      <td>393.980866</td>\n",
       "      <td>1.000</td>\n",
       "      <td>17.000</td>\n",
       "      <td>814.000</td>\n",
       "      <td>828.00000</td>\n",
       "      <td>855.000</td>\n",
       "    </tr>\n",
       "    <tr>\n",
       "      <th>stop</th>\n",
       "      <td>8928.0</td>\n",
       "      <td>1.766913</td>\n",
       "      <td>0.922197</td>\n",
       "      <td>1.000</td>\n",
       "      <td>1.000</td>\n",
       "      <td>2.000</td>\n",
       "      <td>2.00000</td>\n",
       "      <td>6.000</td>\n",
       "    </tr>\n",
       "    <tr>\n",
       "      <th>lap</th>\n",
       "      <td>8928.0</td>\n",
       "      <td>25.137321</td>\n",
       "      <td>14.485677</td>\n",
       "      <td>1.000</td>\n",
       "      <td>13.000</td>\n",
       "      <td>25.000</td>\n",
       "      <td>36.00000</td>\n",
       "      <td>78.000</td>\n",
       "    </tr>\n",
       "    <tr>\n",
       "      <th>milliseconds</th>\n",
       "      <td>8928.0</td>\n",
       "      <td>67331.997088</td>\n",
       "      <td>247452.861126</td>\n",
       "      <td>12897.000</td>\n",
       "      <td>21896.000</td>\n",
       "      <td>23532.000</td>\n",
       "      <td>26064.25000</td>\n",
       "      <td>2077164.000</td>\n",
       "    </tr>\n",
       "    <tr>\n",
       "      <th>seconds</th>\n",
       "      <td>8928.0</td>\n",
       "      <td>67.331997</td>\n",
       "      <td>247.452861</td>\n",
       "      <td>12.897</td>\n",
       "      <td>21.896</td>\n",
       "      <td>23.532</td>\n",
       "      <td>26.06425</td>\n",
       "      <td>2077.164</td>\n",
       "    </tr>\n",
       "  </tbody>\n",
       "</table>\n",
       "</div>"
      ],
      "text/plain": [
       "               count          mean            std        min        25%  \\\n",
       "raceId        8928.0    945.816084      70.202171    841.000    882.000   \n",
       "driverId      8928.0    496.363463     393.980866      1.000     17.000   \n",
       "stop          8928.0      1.766913       0.922197      1.000      1.000   \n",
       "lap           8928.0     25.137321      14.485677      1.000     13.000   \n",
       "milliseconds  8928.0  67331.997088  247452.861126  12897.000  21896.000   \n",
       "seconds       8928.0     67.331997     247.452861     12.897     21.896   \n",
       "\n",
       "                    50%          75%          max  \n",
       "raceId          943.000   1006.00000     1076.000  \n",
       "driverId        814.000    828.00000      855.000  \n",
       "stop              2.000      2.00000        6.000  \n",
       "lap              25.000     36.00000       78.000  \n",
       "milliseconds  23532.000  26064.25000  2077164.000  \n",
       "seconds          23.532     26.06425     2077.164  "
      ]
     },
     "execution_count": 7,
     "metadata": {},
     "output_type": "execute_result"
    }
   ],
   "source": [
    "pit_stops.describe().T"
   ]
  },
  {
   "cell_type": "code",
   "execution_count": 8,
   "id": "ccff982b",
   "metadata": {},
   "outputs": [
    {
     "data": {
      "text/plain": [
       "raceId               1061\n",
       "driverId              849\n",
       "stop                    1\n",
       "lap                     2\n",
       "pitTime          15:08:32\n",
       "duration        34:37.164\n",
       "milliseconds      2077164\n",
       "seconds          2077.164\n",
       "Name: 8390, dtype: object"
      ]
     },
     "metadata": {},
     "output_type": "display_data"
    },
    {
     "data": {
      "text/plain": [
       "raceId               858\n",
       "driverId             813\n",
       "stop                   2\n",
       "lap                   30\n",
       "pitTime         17:58:49\n",
       "duration          12.897\n",
       "milliseconds       12897\n",
       "seconds           12.897\n",
       "Name: 1037, dtype: object"
      ]
     },
     "metadata": {},
     "output_type": "display_data"
    }
   ],
   "source": [
    "#Najdłuższy i najkrótszy pitstop\n",
    "display(pit_stops.loc[pit_stops[\"milliseconds\"].idxmax()])\n",
    "display(pit_stops.loc[pit_stops[\"milliseconds\"].idxmin()])\n",
    "#napisać, że łącznie z przejazdem przez pitstop"
   ]
  },
  {
   "cell_type": "code",
   "execution_count": 9,
   "id": "3d7957e9",
   "metadata": {},
   "outputs": [],
   "source": [
    "pit_stops_m = pd.merge(pit_stops, races, left_on='raceId',right_index=True,how='left')"
   ]
  },
  {
   "cell_type": "code",
   "execution_count": 10,
   "id": "58bb59a9",
   "metadata": {},
   "outputs": [
    {
     "data": {
      "text/plain": [
       "year\n",
       "2011    22.3870\n",
       "2012    22.2550\n",
       "2013    22.8840\n",
       "2014    24.3215\n",
       "2015    24.2590\n",
       "2016    24.0930\n",
       "2017    23.7265\n",
       "2018    23.6505\n",
       "2019    23.5220\n",
       "2020    24.6145\n",
       "2021    24.2550\n",
       "2022    24.5270\n",
       "Name: seconds, dtype: float64"
      ]
     },
     "execution_count": 10,
     "metadata": {},
     "output_type": "execute_result"
    }
   ],
   "source": [
    "pit_stops_m.groupby(by='year')['seconds'].median()"
   ]
  },
  {
   "cell_type": "code",
   "execution_count": 11,
   "id": "8e4867a1",
   "metadata": {},
   "outputs": [
    {
     "data": {
      "text/plain": [
       "year\n",
       "2011     24.448849\n",
       "2012     23.283770\n",
       "2013     24.121319\n",
       "2014     55.088632\n",
       "2015     25.500213\n",
       "2016    124.357194\n",
       "2017     56.789620\n",
       "2018     24.674284\n",
       "2019     24.938538\n",
       "2020    160.940322\n",
       "2021    219.750268\n",
       "2022     23.174323\n",
       "Name: seconds, dtype: float64"
      ]
     },
     "execution_count": 11,
     "metadata": {},
     "output_type": "execute_result"
    }
   ],
   "source": [
    "pit_stops_m.groupby(by='year')['seconds'].mean()"
   ]
  },
  {
   "cell_type": "code",
   "execution_count": 12,
   "id": "bf4826f7",
   "metadata": {},
   "outputs": [],
   "source": [
    "pit_stops_m = pit_stops_m[pit_stops_m['year'] < 2022]"
   ]
  },
  {
   "cell_type": "code",
   "execution_count": 13,
   "id": "14d4c5bb",
   "metadata": {},
   "outputs": [
    {
     "data": {
      "text/plain": [
       "year\n",
       "2011    22.3870\n",
       "2012    22.2550\n",
       "2013    22.8840\n",
       "2014    24.3215\n",
       "2015    24.2590\n",
       "2016    24.0930\n",
       "2017    23.7265\n",
       "2018    23.6505\n",
       "2019    23.5220\n",
       "2020    24.6145\n",
       "2021    24.2550\n",
       "Name: seconds, dtype: float64"
      ]
     },
     "execution_count": 13,
     "metadata": {},
     "output_type": "execute_result"
    }
   ],
   "source": [
    "pit_stops_m.groupby(by='year')['seconds'].median()"
   ]
  },
  {
   "cell_type": "code",
   "execution_count": 14,
   "id": "b27da459",
   "metadata": {},
   "outputs": [
    {
     "data": {
      "text/plain": [
       "year\n",
       "2011     24.448849\n",
       "2012     23.283770\n",
       "2013     24.121319\n",
       "2014     55.088632\n",
       "2015     25.500213\n",
       "2016    124.357194\n",
       "2017     56.789620\n",
       "2018     24.674284\n",
       "2019     24.938538\n",
       "2020    160.940322\n",
       "2021    219.750268\n",
       "Name: seconds, dtype: float64"
      ]
     },
     "execution_count": 14,
     "metadata": {},
     "output_type": "execute_result"
    }
   ],
   "source": [
    "pit_stops_m.groupby(by='year')['seconds'].mean()"
   ]
  },
  {
   "cell_type": "code",
   "execution_count": 15,
   "id": "d524e855",
   "metadata": {},
   "outputs": [],
   "source": [
    "median = pit_stops_m.groupby(by='year')['seconds'].median()\n",
    "mean = pit_stops_m.groupby(by='year')['seconds'].mean()"
   ]
  },
  {
   "cell_type": "code",
   "execution_count": 18,
   "id": "dc7b8baf",
   "metadata": {},
   "outputs": [
    {
     "data": {
      "text/plain": [
       "<AxesSubplot:xlabel='year', ylabel='seconds'>"
      ]
     },
     "execution_count": 18,
     "metadata": {},
     "output_type": "execute_result"
    },
    {
     "data": {
      "image/png": "[encoded data removed]",
      "text/plain": [
       "<Figure size 432x288 with 1 Axes>"
      ]
     },
     "metadata": {
      "needs_background": "light"
     },
     "output_type": "display_data"
    }
   ],
   "source": [
    "sns.lineplot(data=median)"
   ]
  },
  {
   "cell_type": "code",
   "execution_count": null,
   "id": "cc1b6230",
   "metadata": {},
   "outputs": [],
   "source": []
  }
 ],
 "metadata": {
  "kernelspec": {
   "display_name": "Python 3 (ipykernel)",
   "language": "python",
   "name": "python3"
  },
  "language_info": {
   "codemirror_mode": {
    "name": "ipython",
    "version": 3
   },
   "file_extension": ".py",
   "mimetype": "text/x-python",
   "name": "python",
   "nbconvert_exporter": "python",
   "pygments_lexer": "ipython3",
   "version": "3.9.13"
  }
 },
 "nbformat": 4,
 "nbformat_minor": 5
}
